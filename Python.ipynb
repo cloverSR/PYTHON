{
  "nbformat": 4,
  "nbformat_minor": 0,
  "metadata": {
    "colab": {
      "name": "Python.ipynb",
      "provenance": [],
      "collapsed_sections": [],
      "mount_file_id": "1Co-AmP5Q1MHNh9Q8rq7SDbTJvBk0dVXB",
      "authorship_tag": "ABX9TyOkZzI+wV9fJQSAMj09pr8w",
      "include_colab_link": true
    },
    "kernelspec": {
      "name": "python3",
      "display_name": "Python 3"
    },
    "language_info": {
      "name": "python"
    }
  },
  "cells": [
    {
      "cell_type": "markdown",
      "metadata": {
        "id": "view-in-github",
        "colab_type": "text"
      },
      "source": [
        "<a href=\"https://colab.research.google.com/github/cloverSR/PYTHON/blob/main/Python.ipynb\" target=\"_parent\"><img src=\"https://colab.research.google.com/assets/colab-badge.svg\" alt=\"Open In Colab\"/></a>"
      ]
    },
    {
      "cell_type": "code",
      "source": [
        "#passo 1 - Percorrer todos arquivos da pasta base de dados (pasta de vendas)\n",
        "import os\n",
        "import pandas as pd\n",
        "\n",
        "lista_arquivo = os.listdir('/content/drive/MyDrive/python/Py/Vendas')\n",
        "display(lista_arquivo)"
      ],
      "metadata": {
        "id": "Wrs7hIbZHIlB"
      },
      "execution_count": null,
      "outputs": []
    },
    {
      "cell_type": "code",
      "source": [
        "tabela_total = pd.DataFrame() #criando tabela vazia\n",
        "\n",
        "#passo 2 - importar as bases de dados de vendas\n",
        "\n",
        "for arquivo in lista_arquivo:\n",
        "  #se tem 'vendas' no nome do meu arquivo, então:\n",
        "  if 'Vendas' in arquivo:\n",
        "   #importar o arquivo\n",
        "   tabela = pd.read_csv(f'/content/drive/MyDrive/python/Py/Vendas/{arquivo}') #pd.read <- biblioteca pandas\n",
        "   tabela_total = tabela_total.append(tabela) #tabela vazia, adicionando os dados de todas tabelas\n",
        "\n",
        "#passo 3 = tratar / compilar as bases de dados   \n",
        "display(tabela_total)"
      ],
      "metadata": {
        "id": "-WtdlV-IIYCq"
      },
      "execution_count": null,
      "outputs": []
    },
    {
      "cell_type": "code",
      "source": [
        "#passo 4 - calcular o produto mais vendido(em quantidades)\n",
        "tabela_produtos = tabela_total.groupby('Produto').sum() #criando tabela produto e agrupando da tabela total apenas a coluna 'Produto' e utilizar o .sum p/ somar a qtde vendida\n",
        "tabela_produtos = tabela_produtos[['Quantidade Vendida', \"Preco Unitario\"]].sort_values(by='Quantidade Vendida', ascending=False) #selecionando apenas as colunas desejadas, qtde vendida e preco unitario\n",
        "#esta parte acimas \".sort_values(by='Quantidade Vendida', ascending=True)\" serve para ordenar - True para crescente e False para decrescente\n",
        "display(tabela_produtos)"
      ],
      "metadata": {
        "id": "nmSoDjwRXgdf"
      },
      "execution_count": null,
      "outputs": []
    },
    {
      "cell_type": "code",
      "source": [
        "#passo 5 - calcular o produto que mais faturou (em faturamento)\n",
        "\n",
        "tabela_total['Faturamento'] = tabela_total['Quantidade Vendida'] * tabela_total['Preco Unitario']\n",
        "#linha acima foi criado uma coluna de \"Faturamento\" e pegando a quantidade vendida e multiplicando pelo preco unitario\n",
        "\n",
        "tabela_faturamento = tabela_total.groupby('Produto').sum()\n",
        "tabela_faturamento = tabela_faturamento[['Faturamento']].sort_values(by='Faturamento', ascending=False)\n",
        "display(tabela_faturamento)"
      ],
      "metadata": {
        "id": "ORMu9L_tXhqG"
      },
      "execution_count": null,
      "outputs": []
    },
    {
      "cell_type": "code",
      "source": [
        "#passo 6 - calcular a loja/cidade que mais vendeu (em faturamento) \n",
        "\n",
        "tabela_lojas = tabela_total.groupby('Loja').sum()\n",
        "tabela_lojas = tabela_lojas[['Faturamento']]\n",
        "display(tabela_lojas)"
      ],
      "metadata": {
        "id": "WLCUq5wjXh5s"
      },
      "execution_count": null,
      "outputs": []
    },
    {
      "cell_type": "code",
      "source": [
        "#- criar um grafico/dashboard\n",
        "import plotly.express as px #importando o pacote e dando um apelido as px, p/ não precisar ficar escrevendo o tempo todo\n",
        "\n",
        "grafico = px.bar(tabela_lojas, x=tabela_lojas.index, y='Faturamento') \n",
        "#linha acima - como a tabela loja é o indice da coluna que o groupby transformou em negrito, para localizar é necessario fazer desta forma -> \"x=tabela_lojas.index\"\n",
        "grafico.show()"
      ],
      "metadata": {
        "id": "kzE4jtsSh2el"
      },
      "execution_count": null,
      "outputs": []
    }
  ]
}